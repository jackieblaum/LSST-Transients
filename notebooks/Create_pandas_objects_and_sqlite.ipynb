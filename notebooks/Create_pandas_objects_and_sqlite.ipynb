{
 "cells": [
  {
   "cell_type": "code",
   "execution_count": 1,
   "metadata": {
    "collapsed": false
   },
   "outputs": [],
   "source": [
    "import sqlite3\n",
    "import pandas as pd\n",
    "import numpy as np\n",
    "\n",
    "import sqlalchemy.engine\n",
    "\n",
    "# If you do not have sqlalchemy you can install it with:\n",
    "# >pip install sqlalchemy"
   ]
  },
  {
   "cell_type": "code",
   "execution_count": 2,
   "metadata": {
    "collapsed": false
   },
   "outputs": [],
   "source": [
    "# How to create pandas objects\n",
    "\n",
    "# Series: one measurement after the other\n",
    "# This creates a series containing floats with the provided index\n",
    "my_series = pd.Series([1.0, 2, 3.0], index=['a','b','c'])\n",
    "\n",
    "# Another series from a numpy array\n",
    "my_array = np.linspace(1,10,20)\n",
    "my_series = pd.Series(my_array)"
   ]
  },
  {
   "cell_type": "code",
   "execution_count": 3,
   "metadata": {
    "collapsed": false
   },
   "outputs": [
    {
     "name": "stdout",
     "output_type": "stream",
     "text": [
      "      column1  column2\n",
      "row1        1      4.0\n",
      "row2        2      5.0\n",
      "row3        3      6.0\n",
      "row4        4      NaN\n",
      "   column1  column2\n",
      "0        1        4\n",
      "1        2        5\n",
      "2        3        6\n",
      "      column1  column2\n",
      "row1        1        4\n",
      "row2        2        5\n",
      "row3        3        6\n"
     ]
    }
   ],
   "source": [
    "# Dataframes\n",
    "\n",
    "# Explicit from a dictionary of dictionaries\n",
    "my_dataframe = pd.DataFrame.from_dict({'column1': {'row1': 1, 'row2': 2, 'row3': 3, 'row4': 4},\n",
    "                                       'column2': {'row1': 4, 'row2': 5, 'row3': 6}})\n",
    "\n",
    "print(my_dataframe)\n",
    "\n",
    "# Explicit with no indexes\n",
    "my_dataframe = pd.DataFrame.from_dict({'column1': [1,2,3], 'column2': [4,5,6]})\n",
    "print(my_dataframe)\n",
    "\n",
    "# From Series objects\n",
    "series1 = pd.Series([1,2,3], index=['row1', 'row2', 'row3'])\n",
    "series2 = pd.Series([4,5,6], index=['row1', 'row2', 'row3'])\n",
    "\n",
    "my_dataframe = pd.DataFrame.from_dict({'column1': series1, 'column2': series2})\n",
    "print(my_dataframe)"
   ]
  },
  {
   "cell_type": "code",
   "execution_count": 4,
   "metadata": {
    "collapsed": false
   },
   "outputs": [],
   "source": [
    "# Let's store the dataframe in the database\n",
    "engine = sqlalchemy.engine.create_engine('sqlite:///my_database.db')\n",
    "connection = engine.connect()\n",
    "\n",
    "my_dataframe.to_sql(\"my_table\", connection, if_exists='replace')\n",
    "\n",
    "connection.close()"
   ]
  },
  {
   "cell_type": "code",
   "execution_count": 5,
   "metadata": {
    "collapsed": false
   },
   "outputs": [
    {
     "name": "stdout",
     "output_type": "stream",
     "text": [
      "  index  column1  column2\n",
      "0  row1        1        4\n",
      "1  row2        2        5\n",
      "2  row3        3        6\n"
     ]
    }
   ],
   "source": [
    "# Let's query the database\n",
    "engine = sqlalchemy.engine.create_engine('sqlite:///my_database.db')\n",
    "connection = engine.connect()\n",
    "\n",
    "# Explicit use of SQL\n",
    "results = connection.execute(\"SELECT column1 from my_table\")\n",
    "results.fetchall()\n",
    "\n",
    "# Convert the table back to dataframe\n",
    "my_dataframe = pd.read_sql_table(\"my_table\", connection)\n",
    "print(my_dataframe)"
   ]
  },
  {
   "cell_type": "code",
   "execution_count": 6,
   "metadata": {
    "collapsed": false
   },
   "outputs": [
    {
     "data": {
      "text/latex": [
       "$800 \\; \\mathrm{Mbyte}$"
      ],
      "text/plain": [
       "<Quantity 800.0 Mbyte>"
      ]
     },
     "execution_count": 6,
     "metadata": {},
     "output_type": "execute_result"
    }
   ],
   "source": [
    "import astropy.units as u\n",
    "\n",
    "n_regions = 100000\n",
    "n_obs = 1000.0\n",
    "\n",
    "(n_regions * n_obs * 8 * u.byte).to(\"megabyte\")"
   ]
  },
  {
   "cell_type": "code",
   "execution_count": 7,
   "metadata": {
    "collapsed": true
   },
   "outputs": [],
   "source": [
    "class MyObject(object):\n",
    "    \n",
    "    def __init__(self, param):\n",
    "        \n",
    "        self._param = param\n",
    "    \n",
    "    @classmethod\n",
    "    def from_fits_file(cls, filename):\n",
    "        \n",
    "        # Do something to read param\n",
    "        param = 2.0\n",
    "        \n",
    "        return cls(2.0)"
   ]
  },
  {
   "cell_type": "code",
   "execution_count": null,
   "metadata": {
    "collapsed": true
   },
   "outputs": [],
   "source": [
    "MyObject(2.0)"
   ]
  }
 ],
 "metadata": {
  "kernelspec": {
   "display_name": "Python 2",
   "language": "python",
   "name": "python2"
  },
  "language_info": {
   "codemirror_mode": {
    "name": "ipython",
    "version": 2
   },
   "file_extension": ".py",
   "mimetype": "text/x-python",
   "name": "python",
   "nbconvert_exporter": "python",
   "pygments_lexer": "ipython2",
   "version": "2.7.12"
  }
 },
 "nbformat": 4,
 "nbformat_minor": 2
}
