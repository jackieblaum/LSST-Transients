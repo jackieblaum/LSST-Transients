{
 "cells": [
  {
   "cell_type": "markdown",
   "metadata": {},
   "source": [
    "You find information about World Coordinate System (WCS) here:\n",
    "\n",
    "http://docs.astropy.org/en/stable/wcs/\n"
   ]
  },
  {
   "cell_type": "code",
   "execution_count": 14,
   "metadata": {
    "collapsed": true
   },
   "outputs": [],
   "source": [
    "from astropy.io import fits as pyfits\n",
    "from astropy.wcs import wcs\n",
    "\n",
    "import numpy as np"
   ]
  },
  {
   "cell_type": "code",
   "execution_count": 47,
   "metadata": {
    "collapsed": false
   },
   "outputs": [
    {
     "name": "stdout",
     "output_type": "stream",
     "text": [
      "None\n"
     ]
    }
   ],
   "source": [
    "# Load the FITS hdulist using astropy.io.fits\n",
    "hdulist = pyfits.open(\"lsst_e_220_f1_R22_S11_E000.fits.gz\")\n",
    "\n",
    "# Parse the WCS keywords in the primary HDU\n",
    "mywcs = wcs.WCS(hdulist[0].header)\n",
    "\n",
    "print mywcs.sip"
   ]
  },
  {
   "cell_type": "code",
   "execution_count": 60,
   "metadata": {
    "collapsed": false
   },
   "outputs": [],
   "source": [
    "# From pixel to sky\n",
    "\n",
    "pixels = np.array([[2000,2036], [294.28381, 3532.9265]])\n",
    "\n",
    "world = mywcs.all_pix2world(pixels, 0)\n",
    "\n",
    "# From sky to pixel\n",
    "pixels2 = mywcs.all_world2pix(world, 0)\n",
    "\n",
    "assert np.allclose(pixels, pixels2), \"The conversion back to pixel coordinates did not return the same pixels\""
   ]
  }
 ],
 "metadata": {
  "kernelspec": {
   "display_name": "Python 2",
   "language": "python",
   "name": "python2"
  },
  "language_info": {
   "codemirror_mode": {
    "name": "ipython",
    "version": 2
   },
   "file_extension": ".py",
   "mimetype": "text/x-python",
   "name": "python",
   "nbconvert_exporter": "python",
   "pygments_lexer": "ipython2",
   "version": "2.7.12"
  }
 },
 "nbformat": 4,
 "nbformat_minor": 2
}
